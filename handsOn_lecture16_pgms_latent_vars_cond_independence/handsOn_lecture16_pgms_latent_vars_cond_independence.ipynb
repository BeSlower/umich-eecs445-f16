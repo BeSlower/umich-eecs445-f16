{
 "cells": [
  {
   "cell_type": "markdown",
   "metadata": {},
   "source": [
    "### Learning \n",
    "\n",
    "Considering a model having\n",
    "- Observed variables $X$\n",
    "- Hidden variables $Z$\n",
    "- Parameters $\\theta$\n",
    "\n",
    "In lecture 16 we defined **Learning:**, estimate parameters $\\theta$ from observed data $X$, as follows:\n",
    "\n",
    "$$\n",
    "P(\\theta \\mid X) = \\sum_{z \\in Z} P(\\theta, z \\mid X) = \\sum_{z \\in Z} P(\\theta \\mid z, X) P(z \\mid X)\n",
    "$$\n",
    "\n",
    "Make sure you understand this expression: use repeated applications of bayes rule to show that:\n",
    "\n",
    "$ P(\\theta, z \\mid X) = P(\\theta \\mid z, X) P(z \\mid X) $\n",
    "\n",
    "\n",
    "\n",
    "\n"
   ]
  },
  {
   "cell_type": "markdown",
   "metadata": {},
   "source": [
    "### Conditional independence and Graphical Models\n",
    "\n",
    "In the following exercises, we ask whether variables in a graphical model are independent, perhaps conditioned on other variables. In each case, justify your answer by finding an \"active path\" or showing no such active path exists (e.g show D-separation) as appropriate.\n",
    "\n",
    "For example, if we as whether $A \\perp B \\mid C$ you could answer no by finding an active path from $A$ to $B$, or say that yes, they are indpendent by showing that $A$ and $B$ have D-separation (there are no active paths).\n",
    "\n",
    "**Q1**: is $A \\perp B$?\n",
    "\n",
    "<img src=\"ind1.png\">\n",
    "\n",
    "**Q2**: is $A \\perp B \\mid E$?\n",
    "\n",
    "<img src=\"ind1-observed.png\">\n",
    "\n"
   ]
  },
  {
   "cell_type": "markdown",
   "metadata": {},
   "source": [
    "**Q3**: is $A \\perp B \\mid C$?\n",
    "\n",
    "<img src=\"ind2-observed-c.png\">\n",
    "\n",
    "**Q4**: is $A \\perp B \\mid F$?\n",
    "\n",
    "<img src=\"ind2-observed-f.png\">\n",
    "\n",
    "\n"
   ]
  },
  {
   "cell_type": "markdown",
   "metadata": {},
   "source": [
    "**Q5**: is $X_4 \\perp \\left\\{ {X_1, X_3} \\right\\} \\mid X_2$?\n",
    "\n",
    "<img src=\"ind3-observed-x2.png\">\n",
    "\n",
    "**Q6**: is $X_1 \\perp X_6 \\mid \\left\\{ {X_2, X_3} \\right\\} $?\n",
    "\n",
    "<img src=\"ind3-observed-x2x3.png\">\n",
    "\n",
    "**Q7**: is $X_2 \\perp X_3 \\mid \\left\\{ {X_1, X_6} \\right\\} $?\n",
    "\n",
    "<img src=\"ind3-observed-x1x6.png\">\n"
   ]
  }
 ],
 "metadata": {
  "anaconda-cloud": {},
  "kernelspec": {
   "display_name": "Python [Root]",
   "language": "python",
   "name": "Python [Root]"
  },
  "language_info": {
   "codemirror_mode": {
    "name": "ipython",
    "version": 3
   },
   "file_extension": ".py",
   "mimetype": "text/x-python",
   "name": "python",
   "nbconvert_exporter": "python",
   "pygments_lexer": "ipython3",
   "version": "3.5.1"
  }
 },
 "nbformat": 4,
 "nbformat_minor": 0
}
