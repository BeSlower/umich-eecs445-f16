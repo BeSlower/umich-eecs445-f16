{
 "cells": [
  {
   "cell_type": "markdown",
   "metadata": {},
   "source": [
    "## Bayesian Networks\n",
    "\n",
    "Let's consider a bayesian network representing different factors that determine whether you make it to class on time:\n",
    "\n",
    "<a href=\"https://www.youtube.com/watch?v=_Tr8KRqyGJk\">\n",
    "<img src=\"ontime.png\">\n",
    "</a>\n",
    "\n",
    "\n"
   ]
  },
  {
   "cell_type": "markdown",
   "metadata": {},
   "source": [
    "### Exercise: express joint distribution in terms of product of factors\n",
    "\n",
    "Express the joint distribution of this network using the chain rule.\n",
    "\n",
    "P(W,R,T,S,B,C) = ...\n",
    "\n",
    "*your answer goes here*"
   ]
  },
  {
   "cell_type": "code",
   "execution_count": 1,
   "metadata": {
    "collapsed": false
   },
   "outputs": [
    {
     "data": {
      "text/html": [
       "<style>\n",
       "div.probs table {\n",
       "    float:left;\n",
       "    margin-left: 1em;\n",
       "    margin-top: 1em;\n",
       "}\n",
       "\n",
       "div.probs br.clear {\n",
       "    clear:both;\n",
       "}\n",
       "</style>"
      ],
      "text/plain": [
       "<IPython.core.display.HTML object>"
      ]
     },
     "metadata": {},
     "output_type": "display_data"
    }
   ],
   "source": [
    "%%html\n",
    "<style>\n",
    "div.probs table {\n",
    "    float:left;\n",
    "    margin-left: 1em;\n",
    "    margin-top: 1em;\n",
    "}\n",
    "\n",
    "div.probs br.clear {\n",
    "    clear:both;\n",
    "}\n",
    "</style>\n"
   ]
  },
  {
   "cell_type": "markdown",
   "metadata": {},
   "source": [
    "### Computing Probabilities\n",
    "\n",
    "Assuming the (conditional) distributions are as follows:\n",
    "\n",
    "<div class=probs>\n",
    "\n",
    "<table>\n",
    "<tr>\n",
    "<th>$w^0$</th>\n",
    "<th>$w^1$</th>\n",
    "</tr>\n",
    "<tr>\n",
    "<td>0.2</td>\n",
    "<td>0.8</td>\n",
    "</tr>\n",
    "</table>\n",
    "\n",
    "<table>\n",
    "<tr>\n",
    "<th>$r^0$</th>\n",
    "<th>$r^1$</th>\n",
    "</tr>\n",
    "<tr>\n",
    "<td>0.68</td>\n",
    "<td>0.32</td>\n",
    "</tr>\n",
    "</table>\n",
    "\n",
    "<table>\n",
    "<tr>\n",
    "<th>$t^0$</th>\n",
    "<th>$t^1$</th>\n",
    "</tr>\n",
    "<tr>\n",
    "<td>0.85</td>\n",
    "<td>0.15</td>\n",
    "</tr>\n",
    "</table>\n",
    "\n",
    "<br class=\"clear\">\n",
    "\n",
    "<table>\n",
    "<tr>\n",
    "<th></th>\n",
    "<th>$s^0$</th>\n",
    "<th>$s^1$</th>\n",
    "</tr>\n",
    "<tr>\n",
    "<td>$w^0$, $r^0$</td><td>0.4</td><td>0.6</td>\n",
    "</tr>\n",
    "<tr>\n",
    "<td>$w^0$, $r^1$</td><td>0.9</td><td>0.1</td>\n",
    "</tr>\n",
    "<tr>\n",
    "<td>$w^1$, $r^0$</td><td>0.05</td><td>0.95</td>\n",
    "</tr>\n",
    "<tr>\n",
    "<td>$w^1$, $r^1$</td><td>0.3</td><td>0.7</td>\n",
    "</tr>\n",
    "</table>\n",
    "\n",
    "<table>\n",
    "<tr>\n",
    "<th><th>$b^0$</th><th>$b^1$</th>\n",
    "</tr>\n",
    "<tr>\n",
    "<td>$t^0$</td><td>0.15</td><td>0.85</td>\n",
    "</tr>\n",
    "<tr>\n",
    "<td>$t^1$</td><td>0.7<td>0.3</td>\n",
    "</tr>\n",
    "</table>\n",
    "\n",
    "<br class=\"clear\">\n",
    "\n",
    "<table>\n",
    "<tr>\n",
    "<th></th>\n",
    "<th>$c^0$</th>\n",
    "<th>$c^1$</th>\n",
    "</tr>\n",
    "<tr>\n",
    "<td>$s^0$, $b^0$</td><td>0.4</td><td>0.6</td>\n",
    "</tr>\n",
    "<tr>\n",
    "<td>$s^0$, $b^1$</td><td>0.9</td><td>0.1</td>\n",
    "</tr>\n",
    "<tr>\n",
    "<td>$s^1$, $b^0$</td><td>0.05</td><td>0.95</td>\n",
    "</tr>\n",
    "<tr>\n",
    "<td>$s^1$, $b^1$</td><td>0.1</td><td>0.9</td>\n",
    "</tr>\n",
    "</table>\n",
    "\n",
    "</div>"
   ]
  },
  {
   "cell_type": "markdown",
   "metadata": {
    "collapsed": true
   },
   "source": [
    "What is the probability you wake up on time, your roomate takes a long shower, there's bad traffic, you and the bus are both late to the bus stop and you make it to class on time?\n",
    "\n",
    "*your answer goes here*\n",
    "\n",
    "### Exercise: Marginal distribution\n",
    "\n",
    "What does the graph look like if you integrate out R, \"roomate took a long shower\"? What do the condional distributions look like?\n",
    "\n",
    "*your answer goes here*\n",
    "\n",
    "### Exercise: A Legal distribution\n",
    "\n",
    "Show that the joint distribution represented by the network above represents a legal distribution, that is, every outcome has a positive probability and $\\sum P = 1$"
   ]
  }
 ],
 "metadata": {
  "anaconda-cloud": {},
  "kernelspec": {
   "display_name": "Python [Root]",
   "language": "python",
   "name": "Python [Root]"
  },
  "language_info": {
   "codemirror_mode": {
    "name": "ipython",
    "version": 3
   },
   "file_extension": ".py",
   "mimetype": "text/x-python",
   "name": "python",
   "nbconvert_exporter": "python",
   "pygments_lexer": "ipython3",
   "version": "3.5.1"
  }
 },
 "nbformat": 4,
 "nbformat_minor": 1
}
