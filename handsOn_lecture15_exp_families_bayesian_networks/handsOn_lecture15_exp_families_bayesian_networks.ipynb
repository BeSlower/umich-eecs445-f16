{
 "cells": [
  {
   "cell_type": "markdown",
   "metadata": {},
   "source": [
    "## Bayesian Networks\n",
    "\n",
    "Let's consider a bayesian network representing different factors that determine whether you make it to class on time:\n",
    "\n",
    "<a href=\"https://www.youtube.com/watch?v=_Tr8KRqyGJk\">\n",
    "<img src=\"ontime.png\">\n",
    "</a>\n",
    "\n",
    "\n"
   ]
  },
  {
   "cell_type": "markdown",
   "metadata": {},
   "source": [
    "### Exercise: express joint distribution in terms of product of factors\n",
    "\n",
    "Express the joint distribution of this network using the chain rule.\n",
    "\n",
    "P(W,R,T,S,B,C) = ..."
   ]
  },
  {
   "cell_type": "code",
   "execution_count": 9,
   "metadata": {
    "collapsed": false
   },
   "outputs": [
    {
     "data": {
      "text/html": [
       "<style>\n",
       "div.probs table {\n",
       "    float:left;\n",
       "    margin-left: 1em;\n",
       "    margin-top: 1em;\n",
       "}\n",
       "</style>"
      ],
      "text/plain": [
       "<IPython.core.display.HTML object>"
      ]
     },
     "metadata": {},
     "output_type": "display_data"
    }
   ],
   "source": [
    "%%html\n",
    "<style>\n",
    "div.probs table {\n",
    "    float:left;\n",
    "    margin-left: 1em;\n",
    "    margin-top: 1em;\n",
    "}\n",
    "</style>\n"
   ]
  },
  {
   "cell_type": "markdown",
   "metadata": {},
   "source": [
    "### Computing Probabilities\n",
    "\n",
    "Assuming the probabilities are as follows:\n",
    "\n",
    "<div class=probs>\n",
    "\n",
    "<table>\n",
    "<tr>\n",
    "<th>$w^0$</th>\n",
    "<th>$w^1$</th>\n",
    "</tr>\n",
    "<tr>\n",
    "<td>0.7</td>\n",
    "<td>0.3</td>\n",
    "</tr>\n",
    "</table>\n",
    "\n",
    "<table>\n",
    "<tr>\n",
    "<th>$r^0$</th>\n",
    "<th>$r^1$</th>\n",
    "</tr>\n",
    "<tr>\n",
    "<td>0.8</td>\n",
    "<td>0.2</td>\n",
    "</tr>\n",
    "</table>\n",
    "\n",
    "<table>\n",
    "<tr>\n",
    "<th></th>\n",
    "<th>$s^0$</th>\n",
    "<th>$s^1$</th>\n",
    "</tr>\n",
    "<tr>\n",
    "<td>$w^0$, $r^0$</td>\n",
    "<td>0.2</td><td>0.8</td>\n",
    "</tr>\n",
    "<tr>\n",
    "<td>$w^0$, $r^1$</td>\n",
    "<td>0.2</td><td>0.8</td>\n",
    "</tr>\n",
    "<tr>\n",
    "<td>$w^1$, $r^0$</td>\n",
    "<td>0.2</td><td>0.8</td>\n",
    "</tr>\n",
    "<tr>\n",
    "<td>$w^1$, $r^1$</td>\n",
    "<td>0.2</td><td>0.8</td>\n",
    "</tr>\n",
    "</table>\n",
    "\n",
    "\n",
    "<table>\n",
    "<tr>\n",
    "<th></th>\n",
    "<th></th>\n",
    "</tr>\n",
    "<tr>\n",
    "<td></td>\n",
    "<td></td>\n",
    "</tr>\n",
    "</table>\n",
    "\n",
    "</div>"
   ]
  },
  {
   "cell_type": "code",
   "execution_count": null,
   "metadata": {
    "collapsed": true
   },
   "outputs": [],
   "source": []
  }
 ],
 "metadata": {
  "kernelspec": {
   "display_name": "Python 3",
   "language": "python",
   "name": "python3"
  },
  "language_info": {
   "codemirror_mode": {
    "name": "ipython",
    "version": 3
   },
   "file_extension": ".py",
   "mimetype": "text/x-python",
   "name": "python",
   "nbconvert_exporter": "python",
   "pygments_lexer": "ipython3",
   "version": "3.5.2"
  }
 },
 "nbformat": 4,
 "nbformat_minor": 1
}
