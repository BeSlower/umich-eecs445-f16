{
 "cells": [
  {
   "cell_type": "markdown",
   "metadata": {
    "slideshow": {
     "slide_type": "slide"
    }
   },
   "source": [
    "# EECS 445: Machine Learning\n",
    "\n",
    "## Hands On 11: Info Theory and Decision Trees\n",
    "\n",
    "“Find two random variables where the KL divergence is not-symmetric” (easy)\n",
    "\n",
    "“Show that KL divergence is non-negative\" When is it 0?\n",
    "\n",
    "\"Show that mutual info is non-negative\" When is it 0?\n",
    "\n",
    "“Find an example of two random variables where the mutual information is 0 but the variables are not independent\"\n",
    "\n",
    "“Come up with a 2-attribute learning problem where a DT can correctly classify the data but a linear classifier can not\"\n",
    "\n",
    "“Come up with a 3-attribute learning problem where a depth-2 DT can NOT correctly classifiy the data, but a linear classifier can\"\n",
    "\n",
    "“Find a pair of decision stumps, and a dataset, where one stump is better on ‘classification accuracy’ but the other stump is better on ‘information gain’\"\n"
   ]
  },
  {
   "cell_type": "markdown",
   "metadata": {
    "collapsed": true,
    "slideshow": {
     "slide_type": "slide"
    }
   },
   "source": [
    "Prove that the KL divergence is non negative.\n"
   ]
  },
  {
   "cell_type": "markdown",
   "metadata": {
    "slideshow": {
     "slide_type": "fragment"
    }
   },
   "source": [
    "*Hint*: Show that $$\\min_{q} KL(p,q) \\geq 0$$"
   ]
  },
  {
   "cell_type": "markdown",
   "metadata": {
    "slideshow": {
     "slide_type": "slide"
    }
   },
   "source": [
    "Prove that two random variables $X$ and $Y$ are independent if and only if $I(X,Y) = 0$."
   ]
  },
  {
   "cell_type": "markdown",
   "metadata": {
    "slideshow": {
     "slide_type": "slide"
    }
   },
   "source": [
    "Prove that \n",
    "\n",
    "* $I(X, Y) = H(X) + H(Y) - H(X,Y)$\n",
    "* $I(X, Y) = H(X) - H(X | Y)$\n"
   ]
  },
  {
   "cell_type": "markdown",
   "metadata": {
    "slideshow": {
     "slide_type": "slide"
    }
   },
   "source": [
    "Prove that \n",
    "$$I(X,Y) = H(X)$$ if $Y$ is a determinisitc, one-to-one function."
   ]
  },
  {
   "cell_type": "code",
   "execution_count": null,
   "metadata": {
    "collapsed": true
   },
   "outputs": [],
   "source": []
  }
 ],
 "metadata": {
  "anaconda-cloud": {},
  "celltoolbar": "Slideshow",
  "kernelspec": {
   "display_name": "Python [default]",
   "language": "python",
   "name": "python3"
  },
  "language_info": {
   "codemirror_mode": {
    "name": "ipython",
    "version": 3
   },
   "file_extension": ".py",
   "mimetype": "text/x-python",
   "name": "python",
   "nbconvert_exporter": "python",
   "pygments_lexer": "ipython3",
   "version": "3.5.2"
  }
 },
 "nbformat": 4,
 "nbformat_minor": 0
}
