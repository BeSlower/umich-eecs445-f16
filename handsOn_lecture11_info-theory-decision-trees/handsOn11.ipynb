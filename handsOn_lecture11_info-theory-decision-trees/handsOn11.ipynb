{
 "cells": [
  {
   "cell_type": "markdown",
   "metadata": {
    "slideshow": {
     "slide_type": "slide"
    }
   },
   "source": [
    "# EECS 445: Machine Learning\n",
    "\n",
    "## Hands On 11: Info Theory and Decision Trees\n",
    "\n",
    "“Find two random variables where the KL divergence is not-symmetric” (easy)\n",
    "\n",
    "“Show that KL divergence is strictly positive\"\n",
    "\n",
    "“Find an example of two random variables where the mutual information is 0 but the variables are not independent\"\n",
    "\n",
    "“Come up with a 2-attribute learning problem where a DT can correctly classify the data but a linear classifier can not\"\n",
    "\n",
    "“Come up with a 3-attribute learning problem where a depth-2 DT can NOT correctly classifiy the data, but a linear classifier can\"\n",
    "\n",
    "“Find a pair of decision stumps, and a dataset, where one stump is better on ‘classification accuracy’ but the other stump is better on ‘information gain’\"\n"
   ]
  },
  {
   "cell_type": "code",
   "execution_count": null,
   "metadata": {
    "collapsed": true
   },
   "outputs": [],
   "source": []
  }
 ],
 "metadata": {
  "anaconda-cloud": {},
  "celltoolbar": "Slideshow",
  "kernelspec": {
   "display_name": "Python [default]",
   "language": "python",
   "name": "python3"
  },
  "language_info": {
   "codemirror_mode": {
    "name": "ipython",
    "version": 3
   },
   "file_extension": ".py",
   "mimetype": "text/x-python",
   "name": "python",
   "nbconvert_exporter": "python",
   "pygments_lexer": "ipython3",
   "version": "3.5.2"
  }
 },
 "nbformat": 4,
 "nbformat_minor": 0
}
